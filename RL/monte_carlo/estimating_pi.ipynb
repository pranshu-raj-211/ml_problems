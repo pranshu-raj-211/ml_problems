{
 "cells": [
  {
   "cell_type": "markdown",
   "metadata": {},
   "source": [
    "## Estimation of pi using Monte Carlo methods\n",
    "\n",
    "To estimate pi using the Monte Carlo method, we can simply sample a lot of random points in a 2 dimensional space lying inside a square. We count the total number of such points, then count the number of points lying inside the circle having diameter equal to the side of the square. \n",
    "\n",
    "As the ratio of the area of the circle to the area of the square should be pi/4, the ratio of the number of points should reach that as well when the sample size is sufficient."
   ]
  },
  {
   "cell_type": "code",
   "execution_count": null,
   "metadata": {},
   "outputs": [],
   "source": [
    "import numpy as np\n",
    "import matplotlib.pyplot as plt"
   ]
  },
  {
   "cell_type": "code",
   "execution_count": null,
   "metadata": {},
   "outputs": [],
   "source": [
    "fig, ax = plt.subplots()\n",
    "\n",
    "ax.set_xlim(-2, 2)\n",
    "ax.set_ylim(-2, 2)\n",
    "\n",
    "square = plt.Rectangle((-1, -1), 2, 2, edgecolor='blue', facecolor='none')\n",
    "ax.add_patch(square)\n",
    "\n",
    "circle = plt.Circle((0, 0), 1, edgecolor='black', facecolor='none')\n",
    "ax.add_patch(circle)\n",
    "\n",
    "ax.set_aspect('equal')"
   ]
  },
  {
   "cell_type": "markdown",
   "metadata": {},
   "source": [
    "I'm going to sample points from a uniform distribution and overlay them on top of the figures. The ranges of the coordinates of the points will be \n",
    "- x values from -1 to 1\n",
    "- y values from -1 to 1\n",
    "\n",
    "\n",
    "numpy.random.sample returns a sample in the [0,1) open interval range, which can then be modified by changing the signs of the coordinates. "
   ]
  },
  {
   "cell_type": "code",
   "execution_count": null,
   "metadata": {},
   "outputs": [],
   "source": [
    "np.random.seed(951)\n",
    "multiplier = [1,-1]\n",
    "\n",
    "trials = [100, 10_000, 100_000, 1_000_000]"
   ]
  },
  {
   "cell_type": "code",
   "execution_count": null,
   "metadata": {},
   "outputs": [],
   "source": [
    "def sample_points(n_points):\n",
    "    points_in_circle = 0\n",
    "    all_points = np.empty((n_points,), dtype=object)\n",
    "    for i in range(n_points):\n",
    "        # choosing quadrant randomly as well, for both the coordinate values\n",
    "        x_coord = np.random.sample() * np.random.choice(multiplier)\n",
    "        y_coord = np.random.sample() * np.random.choice(multiplier)\n",
    "\n",
    "        point = [x_coord, y_coord]\n",
    "        distance = (np.linalg.norm(point) <= 1.0)\n",
    "        all_points[i]=point, distance.astype(np.uint8)\n",
    "        # if the point lies inside the circle\n",
    "        if distance:\n",
    "            points_in_circle+=1\n",
    "    \n",
    "    return all_points, points_in_circle"
   ]
  },
  {
   "cell_type": "code",
   "execution_count": null,
   "metadata": {},
   "outputs": [],
   "source": [
    "fig, axs = plt.subplots(len(trials), figsize=(10, 5))\n",
    "\n",
    "for i, n_points in enumerate(trials):\n",
    "    all_points, points_in_circle = sample_points(n_points)\n",
    "    coordinates, distances = zip(*all_points)\n",
    "    coordinates = np.array(coordinates)\n",
    "    distances = np.array(distances)\n",
    "\n",
    "    ax = axs[i]\n",
    "    ax.scatter(\n",
    "        coordinates[:, 0], coordinates[:, 1], c=distances, cmap=\"bwr\", alpha=0.5, s=0.3\n",
    "    )\n",
    "    square = plt.Rectangle((-1, -1), 2, 2, fill=False)\n",
    "    circle = plt.Circle((0, 0), 1, fill=False)\n",
    "    ax.add_patch(square)\n",
    "    ax.add_patch(circle)\n",
    "\n",
    "    ax.set_aspect(\"equal\")\n",
    "    print(f\"Using sample size of {n_points}\")\n",
    "    print(\"pi =\", 4 * points_in_circle / n_points)"
   ]
  }
 ],
 "metadata": {
  "kernelspec": {
   "display_name": "production",
   "language": "python",
   "name": "python3"
  },
  "language_info": {
   "codemirror_mode": {
    "name": "ipython",
    "version": 3
   },
   "file_extension": ".py",
   "mimetype": "text/x-python",
   "name": "python",
   "nbconvert_exporter": "python",
   "pygments_lexer": "ipython3",
   "version": "3.8.16"
  }
 },
 "nbformat": 4,
 "nbformat_minor": 2
}
